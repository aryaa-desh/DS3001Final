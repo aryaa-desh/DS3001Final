{
 "cells": [
  {
   "cell_type": "code",
   "execution_count": 1,
   "metadata": {
    "id": "nf5LBpILdtc-"
   },
   "outputs": [],
   "source": [
    "import pandas as pd\n",
    "import numpy as np\n",
    "import matplotlib.pyplot as plt\n",
    "import seaborn as sns"
   ]
  },
  {
   "cell_type": "code",
   "execution_count": 2,
   "metadata": {
    "colab": {
     "base_uri": "https://localhost:8080/",
     "height": 287
    },
    "id": "SXaR_-eDeUKH",
    "outputId": "f4e24638-51d1-4eff-b696-a9442c47967a"
   },
   "outputs": [],
   "source": [
    "df=pd.read_csv('/Users/aryaadeshpande/Desktop/cleaned_nba_stats.csv')\n"
   ]
  },
  {
   "cell_type": "code",
   "execution_count": 5,
   "metadata": {
    "colab": {
     "base_uri": "https://localhost:8080/",
     "height": 424
    },
    "id": "D5mfqBM9enuk",
    "outputId": "0cfabed6-aebe-42d9-fa67-2cc7ba88db3e"
   },
   "outputs": [
    {
     "data": {
      "text/html": [
       "<div>\n",
       "<style scoped>\n",
       "    .dataframe tbody tr th:only-of-type {\n",
       "        vertical-align: middle;\n",
       "    }\n",
       "\n",
       "    .dataframe tbody tr th {\n",
       "        vertical-align: top;\n",
       "    }\n",
       "\n",
       "    .dataframe thead th {\n",
       "        text-align: right;\n",
       "    }\n",
       "</style>\n",
       "<table border=\"1\" class=\"dataframe\">\n",
       "  <thead>\n",
       "    <tr style=\"text-align: right;\">\n",
       "      <th></th>\n",
       "      <th>SCOPE</th>\n",
       "      <th>TM</th>\n",
       "      <th>RS</th>\n",
       "      <th>NAME</th>\n",
       "      <th>G</th>\n",
       "      <th>GS</th>\n",
       "      <th>MIN</th>\n",
       "      <th>FG</th>\n",
       "      <th>FGA</th>\n",
       "      <th>FG_PCT</th>\n",
       "      <th>...</th>\n",
       "      <th>AST</th>\n",
       "      <th>PF</th>\n",
       "      <th>DQ</th>\n",
       "      <th>STL</th>\n",
       "      <th>TO</th>\n",
       "      <th>BLK</th>\n",
       "      <th>PTS</th>\n",
       "      <th>PPG</th>\n",
       "      <th>HI</th>\n",
       "      <th>Starter</th>\n",
       "    </tr>\n",
       "  </thead>\n",
       "  <tbody>\n",
       "    <tr>\n",
       "      <th>0</th>\n",
       "      <td>Total</td>\n",
       "      <td>NY</td>\n",
       "      <td>ACT</td>\n",
       "      <td>Achiuwa</td>\n",
       "      <td>56</td>\n",
       "      <td>9</td>\n",
       "      <td>1137</td>\n",
       "      <td>156</td>\n",
       "      <td>309</td>\n",
       "      <td>0.505</td>\n",
       "      <td>...</td>\n",
       "      <td>53</td>\n",
       "      <td>77</td>\n",
       "      <td>1</td>\n",
       "      <td>45</td>\n",
       "      <td>43</td>\n",
       "      <td>42</td>\n",
       "      <td>361</td>\n",
       "      <td>6.4</td>\n",
       "      <td>26</td>\n",
       "      <td>0</td>\n",
       "    </tr>\n",
       "    <tr>\n",
       "      <th>1</th>\n",
       "      <td>Total</td>\n",
       "      <td>HOU</td>\n",
       "      <td>ACT</td>\n",
       "      <td>Adams</td>\n",
       "      <td>57</td>\n",
       "      <td>3</td>\n",
       "      <td>777</td>\n",
       "      <td>89</td>\n",
       "      <td>163</td>\n",
       "      <td>0.546</td>\n",
       "      <td>...</td>\n",
       "      <td>65</td>\n",
       "      <td>58</td>\n",
       "      <td>0</td>\n",
       "      <td>22</td>\n",
       "      <td>53</td>\n",
       "      <td>28</td>\n",
       "      <td>221</td>\n",
       "      <td>3.9</td>\n",
       "      <td>14</td>\n",
       "      <td>0</td>\n",
       "    </tr>\n",
       "    <tr>\n",
       "      <th>2</th>\n",
       "      <td>Total</td>\n",
       "      <td>MIA</td>\n",
       "      <td>ACT</td>\n",
       "      <td>Adebayo</td>\n",
       "      <td>78</td>\n",
       "      <td>78</td>\n",
       "      <td>2674</td>\n",
       "      <td>540</td>\n",
       "      <td>1113</td>\n",
       "      <td>0.485</td>\n",
       "      <td>...</td>\n",
       "      <td>337</td>\n",
       "      <td>162</td>\n",
       "      <td>0</td>\n",
       "      <td>98</td>\n",
       "      <td>161</td>\n",
       "      <td>53</td>\n",
       "      <td>1410</td>\n",
       "      <td>18.1</td>\n",
       "      <td>34</td>\n",
       "      <td>1</td>\n",
       "    </tr>\n",
       "    <tr>\n",
       "      <th>3</th>\n",
       "      <td>Total</td>\n",
       "      <td>TOR</td>\n",
       "      <td>ACT</td>\n",
       "      <td>Agbaji</td>\n",
       "      <td>63</td>\n",
       "      <td>44</td>\n",
       "      <td>1701</td>\n",
       "      <td>260</td>\n",
       "      <td>519</td>\n",
       "      <td>0.501</td>\n",
       "      <td>...</td>\n",
       "      <td>97</td>\n",
       "      <td>120</td>\n",
       "      <td>1</td>\n",
       "      <td>54</td>\n",
       "      <td>53</td>\n",
       "      <td>29</td>\n",
       "      <td>653</td>\n",
       "      <td>10.4</td>\n",
       "      <td>24</td>\n",
       "      <td>1</td>\n",
       "    </tr>\n",
       "    <tr>\n",
       "      <th>4</th>\n",
       "      <td>Total</td>\n",
       "      <td>MEM</td>\n",
       "      <td>ACT</td>\n",
       "      <td>Aldama</td>\n",
       "      <td>65</td>\n",
       "      <td>16</td>\n",
       "      <td>1660</td>\n",
       "      <td>313</td>\n",
       "      <td>648</td>\n",
       "      <td>0.483</td>\n",
       "      <td>...</td>\n",
       "      <td>188</td>\n",
       "      <td>76</td>\n",
       "      <td>0</td>\n",
       "      <td>52</td>\n",
       "      <td>71</td>\n",
       "      <td>29</td>\n",
       "      <td>811</td>\n",
       "      <td>12.5</td>\n",
       "      <td>29</td>\n",
       "      <td>0</td>\n",
       "    </tr>\n",
       "    <tr>\n",
       "      <th>...</th>\n",
       "      <td>...</td>\n",
       "      <td>...</td>\n",
       "      <td>...</td>\n",
       "      <td>...</td>\n",
       "      <td>...</td>\n",
       "      <td>...</td>\n",
       "      <td>...</td>\n",
       "      <td>...</td>\n",
       "      <td>...</td>\n",
       "      <td>...</td>\n",
       "      <td>...</td>\n",
       "      <td>...</td>\n",
       "      <td>...</td>\n",
       "      <td>...</td>\n",
       "      <td>...</td>\n",
       "      <td>...</td>\n",
       "      <td>...</td>\n",
       "      <td>...</td>\n",
       "      <td>...</td>\n",
       "      <td>...</td>\n",
       "      <td>...</td>\n",
       "    </tr>\n",
       "    <tr>\n",
       "      <th>484</th>\n",
       "      <td>Total</td>\n",
       "      <td>BRK</td>\n",
       "      <td>ACT</td>\n",
       "      <td>Wilson</td>\n",
       "      <td>78</td>\n",
       "      <td>21</td>\n",
       "      <td>1993</td>\n",
       "      <td>240</td>\n",
       "      <td>609</td>\n",
       "      <td>0.394</td>\n",
       "      <td>...</td>\n",
       "      <td>141</td>\n",
       "      <td>162</td>\n",
       "      <td>1</td>\n",
       "      <td>40</td>\n",
       "      <td>79</td>\n",
       "      <td>5</td>\n",
       "      <td>731</td>\n",
       "      <td>9.4</td>\n",
       "      <td>20</td>\n",
       "      <td>0</td>\n",
       "    </tr>\n",
       "    <tr>\n",
       "      <th>485</th>\n",
       "      <td>Total</td>\n",
       "      <td>NY</td>\n",
       "      <td>ACT</td>\n",
       "      <td>Wright</td>\n",
       "      <td>39</td>\n",
       "      <td>7</td>\n",
       "      <td>614</td>\n",
       "      <td>43</td>\n",
       "      <td>125</td>\n",
       "      <td>0.344</td>\n",
       "      <td>...</td>\n",
       "      <td>74</td>\n",
       "      <td>23</td>\n",
       "      <td>0</td>\n",
       "      <td>34</td>\n",
       "      <td>22</td>\n",
       "      <td>12</td>\n",
       "      <td>120</td>\n",
       "      <td>3.1</td>\n",
       "      <td>12</td>\n",
       "      <td>0</td>\n",
       "    </tr>\n",
       "    <tr>\n",
       "      <th>486</th>\n",
       "      <td>Total</td>\n",
       "      <td>PHI</td>\n",
       "      <td>ACT</td>\n",
       "      <td>Yabusele</td>\n",
       "      <td>70</td>\n",
       "      <td>43</td>\n",
       "      <td>1895</td>\n",
       "      <td>282</td>\n",
       "      <td>563</td>\n",
       "      <td>0.501</td>\n",
       "      <td>...</td>\n",
       "      <td>148</td>\n",
       "      <td>164</td>\n",
       "      <td>1</td>\n",
       "      <td>58</td>\n",
       "      <td>87</td>\n",
       "      <td>24</td>\n",
       "      <td>768</td>\n",
       "      <td>11.0</td>\n",
       "      <td>28</td>\n",
       "      <td>1</td>\n",
       "    </tr>\n",
       "    <tr>\n",
       "      <th>487</th>\n",
       "      <td>Total</td>\n",
       "      <td>ATL</td>\n",
       "      <td>ACT</td>\n",
       "      <td>Young</td>\n",
       "      <td>76</td>\n",
       "      <td>76</td>\n",
       "      <td>2739</td>\n",
       "      <td>566</td>\n",
       "      <td>1376</td>\n",
       "      <td>0.411</td>\n",
       "      <td>...</td>\n",
       "      <td>880</td>\n",
       "      <td>145</td>\n",
       "      <td>0</td>\n",
       "      <td>91</td>\n",
       "      <td>355</td>\n",
       "      <td>12</td>\n",
       "      <td>1841</td>\n",
       "      <td>24.2</td>\n",
       "      <td>43</td>\n",
       "      <td>1</td>\n",
       "    </tr>\n",
       "    <tr>\n",
       "      <th>488</th>\n",
       "      <td>Total</td>\n",
       "      <td>ORL</td>\n",
       "      <td>ACT</td>\n",
       "      <td>da Silva</td>\n",
       "      <td>73</td>\n",
       "      <td>37</td>\n",
       "      <td>1592</td>\n",
       "      <td>194</td>\n",
       "      <td>470</td>\n",
       "      <td>0.413</td>\n",
       "      <td>...</td>\n",
       "      <td>107</td>\n",
       "      <td>93</td>\n",
       "      <td>0</td>\n",
       "      <td>33</td>\n",
       "      <td>55</td>\n",
       "      <td>18</td>\n",
       "      <td>519</td>\n",
       "      <td>7.1</td>\n",
       "      <td>25</td>\n",
       "      <td>1</td>\n",
       "    </tr>\n",
       "  </tbody>\n",
       "</table>\n",
       "<p>489 rows × 29 columns</p>\n",
       "</div>"
      ],
      "text/plain": [
       "     SCOPE   TM   RS      NAME   G  GS   MIN   FG   FGA  FG_PCT  ...  AST  \\\n",
       "0    Total   NY  ACT   Achiuwa  56   9  1137  156   309   0.505  ...   53   \n",
       "1    Total  HOU  ACT     Adams  57   3   777   89   163   0.546  ...   65   \n",
       "2    Total  MIA  ACT   Adebayo  78  78  2674  540  1113   0.485  ...  337   \n",
       "3    Total  TOR  ACT    Agbaji  63  44  1701  260   519   0.501  ...   97   \n",
       "4    Total  MEM  ACT    Aldama  65  16  1660  313   648   0.483  ...  188   \n",
       "..     ...  ...  ...       ...  ..  ..   ...  ...   ...     ...  ...  ...   \n",
       "484  Total  BRK  ACT    Wilson  78  21  1993  240   609   0.394  ...  141   \n",
       "485  Total   NY  ACT    Wright  39   7   614   43   125   0.344  ...   74   \n",
       "486  Total  PHI  ACT  Yabusele  70  43  1895  282   563   0.501  ...  148   \n",
       "487  Total  ATL  ACT     Young  76  76  2739  566  1376   0.411  ...  880   \n",
       "488  Total  ORL  ACT  da Silva  73  37  1592  194   470   0.413  ...  107   \n",
       "\n",
       "      PF  DQ  STL   TO  BLK   PTS   PPG  HI  Starter  \n",
       "0     77   1   45   43   42   361   6.4  26        0  \n",
       "1     58   0   22   53   28   221   3.9  14        0  \n",
       "2    162   0   98  161   53  1410  18.1  34        1  \n",
       "3    120   1   54   53   29   653  10.4  24        1  \n",
       "4     76   0   52   71   29   811  12.5  29        0  \n",
       "..   ...  ..  ...  ...  ...   ...   ...  ..      ...  \n",
       "484  162   1   40   79    5   731   9.4  20        0  \n",
       "485   23   0   34   22   12   120   3.1  12        0  \n",
       "486  164   1   58   87   24   768  11.0  28        1  \n",
       "487  145   0   91  355   12  1841  24.2  43        1  \n",
       "488   93   0   33   55   18   519   7.1  25        1  \n",
       "\n",
       "[489 rows x 29 columns]"
      ]
     },
     "execution_count": 5,
     "metadata": {},
     "output_type": "execute_result"
    }
   ],
   "source": [
    "df"
   ]
  },
  {
   "cell_type": "code",
   "execution_count": 7,
   "metadata": {
    "colab": {
     "base_uri": "https://localhost:8080/"
    },
    "id": "Ucn0eXdqfR26",
    "outputId": "02a5000e-8199-48a0-ac1f-bb4ab1d8eced"
   },
   "outputs": [
    {
     "data": {
      "text/plain": [
       "Index(['SCOPE', 'TM', 'RS', 'NAME', 'G', 'GS', 'MIN', 'FG', 'FGA', 'FG_PCT',\n",
       "       'FG3', 'FG3A', 'FG3_PCT', 'FT', 'FTA', 'FT_PCT', 'OFF', 'DEF', 'TREB',\n",
       "       'AST', 'PF', 'DQ', 'STL', 'TO', 'BLK', 'PTS', 'PPG', 'HI', 'Starter'],\n",
       "      dtype='object')"
      ]
     },
     "execution_count": 7,
     "metadata": {},
     "output_type": "execute_result"
    }
   ],
   "source": [
    "df.columns"
   ]
  },
  {
   "cell_type": "code",
   "execution_count": 9,
   "metadata": {
    "colab": {
     "base_uri": "https://localhost:8080/"
    },
    "id": "Dj6TfPX7fhJI",
    "outputId": "345ab57b-3a13-4dbe-ce75-b4fb79e25027"
   },
   "outputs": [
    {
     "name": "stdout",
     "output_type": "stream",
     "text": [
      "Percentage of Missing Values per Column:\n",
      "\n",
      "Series([], dtype: float64)\n"
     ]
    }
   ],
   "source": [
    "#checking the % of missing values per column\n",
    "missing_percent = df.isnull().mean() * 100\n",
    "missing_percent = missing_percent[missing_percent > 0].sort_values(ascending=False)\n",
    "\n",
    "print(\"Percentage of Missing Values per Column:\\n\")\n",
    "print(missing_percent)\n"
   ]
  },
  {
   "cell_type": "markdown",
   "metadata": {
    "id": "bqGKvS1Afqru"
   },
   "source": [
    "No NaNs right now"
   ]
  },
  {
   "cell_type": "code",
   "execution_count": 12,
   "metadata": {
    "id": "1629E5tyoCwJ"
   },
   "outputs": [],
   "source": [
    "non_numeric_cols = ['NAME', 'TM', 'POS', 'SCOPE', 'RS']  # Add any others that shouldn't be numeric\n",
    "numeric_candidate_cols = df.columns.difference(non_numeric_cols)\n",
    "\n",
    "# Step 2: Convert them to numeric, coercing non-numeric to NaN\n",
    "for col in numeric_candidate_cols:\n",
    "    df[col] = pd.to_numeric(df[col], errors='coerce')"
   ]
  },
  {
   "cell_type": "markdown",
   "metadata": {
    "id": "c46kfItmoLhN"
   },
   "source": [
    "after checking, for other instances, where there are non numeric inputs such as --- in columns which are supposed to be numeric"
   ]
  },
  {
   "cell_type": "code",
   "execution_count": 15,
   "metadata": {
    "colab": {
     "base_uri": "https://localhost:8080/"
    },
    "id": "hm1gVBNDoHGh",
    "outputId": "79a883aa-2545-4ed1-e93f-221a03b0f4ee"
   },
   "outputs": [
    {
     "name": "stdout",
     "output_type": "stream",
     "text": [
      "Rows with at least one NaN: 0 out of 489\n",
      "Percentage: 0.00%\n"
     ]
    }
   ],
   "source": [
    "# Total number of rows with at least one NaN\n",
    "num_rows_with_nan = df.isna().any(axis=1).sum()\n",
    "\n",
    "# Total number of rows in the DataFrame\n",
    "total_rows = len(df)\n",
    "\n",
    "# Percentage\n",
    "percent_rows_with_nan = 100 * num_rows_with_nan / total_rows\n",
    "\n",
    "print(f\"Rows with at least one NaN: {num_rows_with_nan} out of {total_rows}\")\n",
    "print(f\"Percentage: {percent_rows_with_nan:.2f}%\")\n"
   ]
  },
  {
   "cell_type": "markdown",
   "metadata": {
    "id": "RyJXjQTKo4Tk"
   },
   "source": [
    "dropping these rows with NaNs, as only 7% have them, and imputation doesn't make sense, as if we impute the numeric column with something like median, it wouldn't make sense as potentially with very little play time (less mins), might get extremely high 3pt % which logically doesnt make sense, also imputing based on the rows above or below doesnt make sense as data is arranged alphabetically by last name.\n"
   ]
  },
  {
   "cell_type": "code",
   "execution_count": 18,
   "metadata": {
    "id": "WQbLGB9RqxzZ"
   },
   "outputs": [],
   "source": [
    "df = df.dropna().reset_index(drop=True)\n"
   ]
  },
  {
   "cell_type": "code",
   "execution_count": 20,
   "metadata": {
    "id": "4-ok8i9tf7po"
   },
   "outputs": [],
   "source": [
    "#this cleans the name column, I'm removing the team abbreviation that is in our Name column\n",
    "df['NAME'] = df['NAME'].apply(lambda x: x.rsplit(',', 1)[0].strip())\n"
   ]
  },
  {
   "cell_type": "code",
   "execution_count": 22,
   "metadata": {
    "colab": {
     "base_uri": "https://localhost:8080/",
     "height": 178
    },
    "id": "ersLDQdigms_",
    "outputId": "fd3b4eb3-93f7-4208-b83d-1f2537cb1cc6"
   },
   "outputs": [
    {
     "data": {
      "text/plain": [
       "SCOPE\n",
       "Total    489\n",
       "Name: count, dtype: int64"
      ]
     },
     "execution_count": 22,
     "metadata": {},
     "output_type": "execute_result"
    }
   ],
   "source": [
    "df['SCOPE'].value_counts()"
   ]
  },
  {
   "cell_type": "code",
   "execution_count": 24,
   "metadata": {
    "id": "wVt1Wg8DhUqw"
   },
   "outputs": [],
   "source": [
    "df = df[df['SCOPE'].str.lower() != 'team']\n"
   ]
  },
  {
   "cell_type": "markdown",
   "metadata": {
    "id": "K5kyhJ2LhAbD"
   },
   "source": [
    "we're only looking at the complete stats of a player, not considering traded players more than once (for every time they were traded)"
   ]
  },
  {
   "cell_type": "code",
   "execution_count": 27,
   "metadata": {
    "colab": {
     "base_uri": "https://localhost:8080/",
     "height": 178
    },
    "id": "ugii56MGjrws",
    "outputId": "13244446-05ca-481c-ddbd-b048a5a27899"
   },
   "outputs": [
    {
     "data": {
      "text/plain": [
       "RS\n",
       "ACT    489\n",
       "Name: count, dtype: int64"
      ]
     },
     "execution_count": 27,
     "metadata": {},
     "output_type": "execute_result"
    }
   ],
   "source": [
    "df['RS'].value_counts()"
   ]
  },
  {
   "cell_type": "code",
   "execution_count": 29,
   "metadata": {
    "id": "v-Uz1D0pklSy"
   },
   "outputs": [],
   "source": [
    "df = df[df['RS'].str.upper() != 'NWT']\n"
   ]
  },
  {
   "cell_type": "code",
   "execution_count": 31,
   "metadata": {
    "colab": {
     "base_uri": "https://localhost:8080/",
     "height": 147
    },
    "id": "BSNWy88_kouX",
    "outputId": "8da876c1-0cd5-4db6-ba81-92b369d1500a"
   },
   "outputs": [
    {
     "data": {
      "text/plain": [
       "RS\n",
       "ACT    489\n",
       "Name: count, dtype: int64"
      ]
     },
     "execution_count": 31,
     "metadata": {},
     "output_type": "execute_result"
    }
   ],
   "source": [
    "df['RS'].value_counts()"
   ]
  },
  {
   "cell_type": "markdown",
   "metadata": {
    "id": "g7zwnSqblAg1"
   },
   "source": [
    "we're only looking at the active players currently in the NBA, and not players who were on the team, didnt get any game time."
   ]
  },
  {
   "cell_type": "code",
   "execution_count": 34,
   "metadata": {
    "id": "LVlomNx0ri-L"
   },
   "outputs": [],
   "source": [
    "df.to_csv(\"cleaned_nba_stats.csv\", index=False)\n"
   ]
  },
  {
   "cell_type": "markdown",
   "metadata": {
    "id": "kwrJv_4_uYQy"
   },
   "source": [
    "**Working with cleaned data now**"
   ]
  },
  {
   "cell_type": "code",
   "execution_count": 37,
   "metadata": {
    "id": "4uQnsyI4udbD"
   },
   "outputs": [],
   "source": [
    "df_cleaned = df.copy()"
   ]
  },
  {
   "cell_type": "code",
   "execution_count": 39,
   "metadata": {
    "colab": {
     "base_uri": "https://localhost:8080/"
    },
    "id": "mHGhjnLWvCPb",
    "outputId": "e556a1be-af5d-47eb-d974-df52054282e5"
   },
   "outputs": [
    {
     "data": {
      "text/plain": [
       "(489, 29)"
      ]
     },
     "execution_count": 39,
     "metadata": {},
     "output_type": "execute_result"
    }
   ],
   "source": [
    "df_cleaned.shape"
   ]
  },
  {
   "cell_type": "code",
   "execution_count": 41,
   "metadata": {
    "id": "n-2uCE2V5IyM"
   },
   "outputs": [],
   "source": [
    "df_cleaned=pd.read_csv('/Users/aryaadeshpande/Desktop/cleaned_nba_stats.csv')"
   ]
  },
  {
   "cell_type": "code",
   "execution_count": 43,
   "metadata": {
    "colab": {
     "base_uri": "https://localhost:8080/",
     "height": 424
    },
    "id": "5C_QCdaR5RSw",
    "outputId": "272f1ee9-f92e-4180-960e-9c8e29b4f132"
   },
   "outputs": [
    {
     "data": {
      "text/html": [
       "<div>\n",
       "<style scoped>\n",
       "    .dataframe tbody tr th:only-of-type {\n",
       "        vertical-align: middle;\n",
       "    }\n",
       "\n",
       "    .dataframe tbody tr th {\n",
       "        vertical-align: top;\n",
       "    }\n",
       "\n",
       "    .dataframe thead th {\n",
       "        text-align: right;\n",
       "    }\n",
       "</style>\n",
       "<table border=\"1\" class=\"dataframe\">\n",
       "  <thead>\n",
       "    <tr style=\"text-align: right;\">\n",
       "      <th></th>\n",
       "      <th>SCOPE</th>\n",
       "      <th>TM</th>\n",
       "      <th>RS</th>\n",
       "      <th>NAME</th>\n",
       "      <th>G</th>\n",
       "      <th>GS</th>\n",
       "      <th>MIN</th>\n",
       "      <th>FG</th>\n",
       "      <th>FGA</th>\n",
       "      <th>FG_PCT</th>\n",
       "      <th>...</th>\n",
       "      <th>AST</th>\n",
       "      <th>PF</th>\n",
       "      <th>DQ</th>\n",
       "      <th>STL</th>\n",
       "      <th>TO</th>\n",
       "      <th>BLK</th>\n",
       "      <th>PTS</th>\n",
       "      <th>PPG</th>\n",
       "      <th>HI</th>\n",
       "      <th>Starter</th>\n",
       "    </tr>\n",
       "  </thead>\n",
       "  <tbody>\n",
       "    <tr>\n",
       "      <th>0</th>\n",
       "      <td>Total</td>\n",
       "      <td>NY</td>\n",
       "      <td>ACT</td>\n",
       "      <td>Achiuwa</td>\n",
       "      <td>56</td>\n",
       "      <td>9</td>\n",
       "      <td>1137</td>\n",
       "      <td>156</td>\n",
       "      <td>309</td>\n",
       "      <td>0.505</td>\n",
       "      <td>...</td>\n",
       "      <td>53</td>\n",
       "      <td>77</td>\n",
       "      <td>1</td>\n",
       "      <td>45</td>\n",
       "      <td>43</td>\n",
       "      <td>42</td>\n",
       "      <td>361</td>\n",
       "      <td>6.4</td>\n",
       "      <td>26</td>\n",
       "      <td>0</td>\n",
       "    </tr>\n",
       "    <tr>\n",
       "      <th>1</th>\n",
       "      <td>Total</td>\n",
       "      <td>HOU</td>\n",
       "      <td>ACT</td>\n",
       "      <td>Adams</td>\n",
       "      <td>57</td>\n",
       "      <td>3</td>\n",
       "      <td>777</td>\n",
       "      <td>89</td>\n",
       "      <td>163</td>\n",
       "      <td>0.546</td>\n",
       "      <td>...</td>\n",
       "      <td>65</td>\n",
       "      <td>58</td>\n",
       "      <td>0</td>\n",
       "      <td>22</td>\n",
       "      <td>53</td>\n",
       "      <td>28</td>\n",
       "      <td>221</td>\n",
       "      <td>3.9</td>\n",
       "      <td>14</td>\n",
       "      <td>0</td>\n",
       "    </tr>\n",
       "    <tr>\n",
       "      <th>2</th>\n",
       "      <td>Total</td>\n",
       "      <td>MIA</td>\n",
       "      <td>ACT</td>\n",
       "      <td>Adebayo</td>\n",
       "      <td>78</td>\n",
       "      <td>78</td>\n",
       "      <td>2674</td>\n",
       "      <td>540</td>\n",
       "      <td>1113</td>\n",
       "      <td>0.485</td>\n",
       "      <td>...</td>\n",
       "      <td>337</td>\n",
       "      <td>162</td>\n",
       "      <td>0</td>\n",
       "      <td>98</td>\n",
       "      <td>161</td>\n",
       "      <td>53</td>\n",
       "      <td>1410</td>\n",
       "      <td>18.1</td>\n",
       "      <td>34</td>\n",
       "      <td>1</td>\n",
       "    </tr>\n",
       "    <tr>\n",
       "      <th>3</th>\n",
       "      <td>Total</td>\n",
       "      <td>TOR</td>\n",
       "      <td>ACT</td>\n",
       "      <td>Agbaji</td>\n",
       "      <td>63</td>\n",
       "      <td>44</td>\n",
       "      <td>1701</td>\n",
       "      <td>260</td>\n",
       "      <td>519</td>\n",
       "      <td>0.501</td>\n",
       "      <td>...</td>\n",
       "      <td>97</td>\n",
       "      <td>120</td>\n",
       "      <td>1</td>\n",
       "      <td>54</td>\n",
       "      <td>53</td>\n",
       "      <td>29</td>\n",
       "      <td>653</td>\n",
       "      <td>10.4</td>\n",
       "      <td>24</td>\n",
       "      <td>1</td>\n",
       "    </tr>\n",
       "    <tr>\n",
       "      <th>4</th>\n",
       "      <td>Total</td>\n",
       "      <td>MEM</td>\n",
       "      <td>ACT</td>\n",
       "      <td>Aldama</td>\n",
       "      <td>65</td>\n",
       "      <td>16</td>\n",
       "      <td>1660</td>\n",
       "      <td>313</td>\n",
       "      <td>648</td>\n",
       "      <td>0.483</td>\n",
       "      <td>...</td>\n",
       "      <td>188</td>\n",
       "      <td>76</td>\n",
       "      <td>0</td>\n",
       "      <td>52</td>\n",
       "      <td>71</td>\n",
       "      <td>29</td>\n",
       "      <td>811</td>\n",
       "      <td>12.5</td>\n",
       "      <td>29</td>\n",
       "      <td>0</td>\n",
       "    </tr>\n",
       "    <tr>\n",
       "      <th>...</th>\n",
       "      <td>...</td>\n",
       "      <td>...</td>\n",
       "      <td>...</td>\n",
       "      <td>...</td>\n",
       "      <td>...</td>\n",
       "      <td>...</td>\n",
       "      <td>...</td>\n",
       "      <td>...</td>\n",
       "      <td>...</td>\n",
       "      <td>...</td>\n",
       "      <td>...</td>\n",
       "      <td>...</td>\n",
       "      <td>...</td>\n",
       "      <td>...</td>\n",
       "      <td>...</td>\n",
       "      <td>...</td>\n",
       "      <td>...</td>\n",
       "      <td>...</td>\n",
       "      <td>...</td>\n",
       "      <td>...</td>\n",
       "      <td>...</td>\n",
       "    </tr>\n",
       "    <tr>\n",
       "      <th>484</th>\n",
       "      <td>Total</td>\n",
       "      <td>BRK</td>\n",
       "      <td>ACT</td>\n",
       "      <td>Wilson</td>\n",
       "      <td>78</td>\n",
       "      <td>21</td>\n",
       "      <td>1993</td>\n",
       "      <td>240</td>\n",
       "      <td>609</td>\n",
       "      <td>0.394</td>\n",
       "      <td>...</td>\n",
       "      <td>141</td>\n",
       "      <td>162</td>\n",
       "      <td>1</td>\n",
       "      <td>40</td>\n",
       "      <td>79</td>\n",
       "      <td>5</td>\n",
       "      <td>731</td>\n",
       "      <td>9.4</td>\n",
       "      <td>20</td>\n",
       "      <td>0</td>\n",
       "    </tr>\n",
       "    <tr>\n",
       "      <th>485</th>\n",
       "      <td>Total</td>\n",
       "      <td>NY</td>\n",
       "      <td>ACT</td>\n",
       "      <td>Wright</td>\n",
       "      <td>39</td>\n",
       "      <td>7</td>\n",
       "      <td>614</td>\n",
       "      <td>43</td>\n",
       "      <td>125</td>\n",
       "      <td>0.344</td>\n",
       "      <td>...</td>\n",
       "      <td>74</td>\n",
       "      <td>23</td>\n",
       "      <td>0</td>\n",
       "      <td>34</td>\n",
       "      <td>22</td>\n",
       "      <td>12</td>\n",
       "      <td>120</td>\n",
       "      <td>3.1</td>\n",
       "      <td>12</td>\n",
       "      <td>0</td>\n",
       "    </tr>\n",
       "    <tr>\n",
       "      <th>486</th>\n",
       "      <td>Total</td>\n",
       "      <td>PHI</td>\n",
       "      <td>ACT</td>\n",
       "      <td>Yabusele</td>\n",
       "      <td>70</td>\n",
       "      <td>43</td>\n",
       "      <td>1895</td>\n",
       "      <td>282</td>\n",
       "      <td>563</td>\n",
       "      <td>0.501</td>\n",
       "      <td>...</td>\n",
       "      <td>148</td>\n",
       "      <td>164</td>\n",
       "      <td>1</td>\n",
       "      <td>58</td>\n",
       "      <td>87</td>\n",
       "      <td>24</td>\n",
       "      <td>768</td>\n",
       "      <td>11.0</td>\n",
       "      <td>28</td>\n",
       "      <td>1</td>\n",
       "    </tr>\n",
       "    <tr>\n",
       "      <th>487</th>\n",
       "      <td>Total</td>\n",
       "      <td>ATL</td>\n",
       "      <td>ACT</td>\n",
       "      <td>Young</td>\n",
       "      <td>76</td>\n",
       "      <td>76</td>\n",
       "      <td>2739</td>\n",
       "      <td>566</td>\n",
       "      <td>1376</td>\n",
       "      <td>0.411</td>\n",
       "      <td>...</td>\n",
       "      <td>880</td>\n",
       "      <td>145</td>\n",
       "      <td>0</td>\n",
       "      <td>91</td>\n",
       "      <td>355</td>\n",
       "      <td>12</td>\n",
       "      <td>1841</td>\n",
       "      <td>24.2</td>\n",
       "      <td>43</td>\n",
       "      <td>1</td>\n",
       "    </tr>\n",
       "    <tr>\n",
       "      <th>488</th>\n",
       "      <td>Total</td>\n",
       "      <td>ORL</td>\n",
       "      <td>ACT</td>\n",
       "      <td>da Silva</td>\n",
       "      <td>73</td>\n",
       "      <td>37</td>\n",
       "      <td>1592</td>\n",
       "      <td>194</td>\n",
       "      <td>470</td>\n",
       "      <td>0.413</td>\n",
       "      <td>...</td>\n",
       "      <td>107</td>\n",
       "      <td>93</td>\n",
       "      <td>0</td>\n",
       "      <td>33</td>\n",
       "      <td>55</td>\n",
       "      <td>18</td>\n",
       "      <td>519</td>\n",
       "      <td>7.1</td>\n",
       "      <td>25</td>\n",
       "      <td>1</td>\n",
       "    </tr>\n",
       "  </tbody>\n",
       "</table>\n",
       "<p>489 rows × 29 columns</p>\n",
       "</div>"
      ],
      "text/plain": [
       "     SCOPE   TM   RS      NAME   G  GS   MIN   FG   FGA  FG_PCT  ...  AST  \\\n",
       "0    Total   NY  ACT   Achiuwa  56   9  1137  156   309   0.505  ...   53   \n",
       "1    Total  HOU  ACT     Adams  57   3   777   89   163   0.546  ...   65   \n",
       "2    Total  MIA  ACT   Adebayo  78  78  2674  540  1113   0.485  ...  337   \n",
       "3    Total  TOR  ACT    Agbaji  63  44  1701  260   519   0.501  ...   97   \n",
       "4    Total  MEM  ACT    Aldama  65  16  1660  313   648   0.483  ...  188   \n",
       "..     ...  ...  ...       ...  ..  ..   ...  ...   ...     ...  ...  ...   \n",
       "484  Total  BRK  ACT    Wilson  78  21  1993  240   609   0.394  ...  141   \n",
       "485  Total   NY  ACT    Wright  39   7   614   43   125   0.344  ...   74   \n",
       "486  Total  PHI  ACT  Yabusele  70  43  1895  282   563   0.501  ...  148   \n",
       "487  Total  ATL  ACT     Young  76  76  2739  566  1376   0.411  ...  880   \n",
       "488  Total  ORL  ACT  da Silva  73  37  1592  194   470   0.413  ...  107   \n",
       "\n",
       "      PF  DQ  STL   TO  BLK   PTS   PPG  HI  Starter  \n",
       "0     77   1   45   43   42   361   6.4  26        0  \n",
       "1     58   0   22   53   28   221   3.9  14        0  \n",
       "2    162   0   98  161   53  1410  18.1  34        1  \n",
       "3    120   1   54   53   29   653  10.4  24        1  \n",
       "4     76   0   52   71   29   811  12.5  29        0  \n",
       "..   ...  ..  ...  ...  ...   ...   ...  ..      ...  \n",
       "484  162   1   40   79    5   731   9.4  20        0  \n",
       "485   23   0   34   22   12   120   3.1  12        0  \n",
       "486  164   1   58   87   24   768  11.0  28        1  \n",
       "487  145   0   91  355   12  1841  24.2  43        1  \n",
       "488   93   0   33   55   18   519   7.1  25        1  \n",
       "\n",
       "[489 rows x 29 columns]"
      ]
     },
     "execution_count": 43,
     "metadata": {},
     "output_type": "execute_result"
    }
   ],
   "source": [
    "df_cleaned"
   ]
  },
  {
   "cell_type": "code",
   "execution_count": 45,
   "metadata": {
    "id": "pqrg2kqG6AsQ"
   },
   "outputs": [],
   "source": [
    "df_cleaned['Starter'] = (df_cleaned['GS'] / df_cleaned['G'] >= 0.5).astype(int)\n"
   ]
  },
  {
   "cell_type": "code",
   "execution_count": 47,
   "metadata": {
    "colab": {
     "base_uri": "https://localhost:8080/",
     "height": 704
    },
    "id": "DYTRUxSx6B3D",
    "outputId": "c06fe411-5cf2-4826-cb30-f47fc6533aca"
   },
   "outputs": [
    {
     "data": {
      "text/html": [
       "<div>\n",
       "<style scoped>\n",
       "    .dataframe tbody tr th:only-of-type {\n",
       "        vertical-align: middle;\n",
       "    }\n",
       "\n",
       "    .dataframe tbody tr th {\n",
       "        vertical-align: top;\n",
       "    }\n",
       "\n",
       "    .dataframe thead th {\n",
       "        text-align: right;\n",
       "    }\n",
       "</style>\n",
       "<table border=\"1\" class=\"dataframe\">\n",
       "  <thead>\n",
       "    <tr style=\"text-align: right;\">\n",
       "      <th></th>\n",
       "      <th>SCOPE</th>\n",
       "      <th>TM</th>\n",
       "      <th>RS</th>\n",
       "      <th>NAME</th>\n",
       "      <th>G</th>\n",
       "      <th>GS</th>\n",
       "      <th>MIN</th>\n",
       "      <th>FG</th>\n",
       "      <th>FGA</th>\n",
       "      <th>FG_PCT</th>\n",
       "      <th>...</th>\n",
       "      <th>AST</th>\n",
       "      <th>PF</th>\n",
       "      <th>DQ</th>\n",
       "      <th>STL</th>\n",
       "      <th>TO</th>\n",
       "      <th>BLK</th>\n",
       "      <th>PTS</th>\n",
       "      <th>PPG</th>\n",
       "      <th>HI</th>\n",
       "      <th>Starter</th>\n",
       "    </tr>\n",
       "  </thead>\n",
       "  <tbody>\n",
       "    <tr>\n",
       "      <th>0</th>\n",
       "      <td>Total</td>\n",
       "      <td>NY</td>\n",
       "      <td>ACT</td>\n",
       "      <td>Achiuwa</td>\n",
       "      <td>56</td>\n",
       "      <td>9</td>\n",
       "      <td>1137</td>\n",
       "      <td>156</td>\n",
       "      <td>309</td>\n",
       "      <td>0.505</td>\n",
       "      <td>...</td>\n",
       "      <td>53</td>\n",
       "      <td>77</td>\n",
       "      <td>1</td>\n",
       "      <td>45</td>\n",
       "      <td>43</td>\n",
       "      <td>42</td>\n",
       "      <td>361</td>\n",
       "      <td>6.4</td>\n",
       "      <td>26</td>\n",
       "      <td>0</td>\n",
       "    </tr>\n",
       "    <tr>\n",
       "      <th>1</th>\n",
       "      <td>Total</td>\n",
       "      <td>HOU</td>\n",
       "      <td>ACT</td>\n",
       "      <td>Adams</td>\n",
       "      <td>57</td>\n",
       "      <td>3</td>\n",
       "      <td>777</td>\n",
       "      <td>89</td>\n",
       "      <td>163</td>\n",
       "      <td>0.546</td>\n",
       "      <td>...</td>\n",
       "      <td>65</td>\n",
       "      <td>58</td>\n",
       "      <td>0</td>\n",
       "      <td>22</td>\n",
       "      <td>53</td>\n",
       "      <td>28</td>\n",
       "      <td>221</td>\n",
       "      <td>3.9</td>\n",
       "      <td>14</td>\n",
       "      <td>0</td>\n",
       "    </tr>\n",
       "    <tr>\n",
       "      <th>2</th>\n",
       "      <td>Total</td>\n",
       "      <td>MIA</td>\n",
       "      <td>ACT</td>\n",
       "      <td>Adebayo</td>\n",
       "      <td>78</td>\n",
       "      <td>78</td>\n",
       "      <td>2674</td>\n",
       "      <td>540</td>\n",
       "      <td>1113</td>\n",
       "      <td>0.485</td>\n",
       "      <td>...</td>\n",
       "      <td>337</td>\n",
       "      <td>162</td>\n",
       "      <td>0</td>\n",
       "      <td>98</td>\n",
       "      <td>161</td>\n",
       "      <td>53</td>\n",
       "      <td>1410</td>\n",
       "      <td>18.1</td>\n",
       "      <td>34</td>\n",
       "      <td>1</td>\n",
       "    </tr>\n",
       "    <tr>\n",
       "      <th>3</th>\n",
       "      <td>Total</td>\n",
       "      <td>TOR</td>\n",
       "      <td>ACT</td>\n",
       "      <td>Agbaji</td>\n",
       "      <td>63</td>\n",
       "      <td>44</td>\n",
       "      <td>1701</td>\n",
       "      <td>260</td>\n",
       "      <td>519</td>\n",
       "      <td>0.501</td>\n",
       "      <td>...</td>\n",
       "      <td>97</td>\n",
       "      <td>120</td>\n",
       "      <td>1</td>\n",
       "      <td>54</td>\n",
       "      <td>53</td>\n",
       "      <td>29</td>\n",
       "      <td>653</td>\n",
       "      <td>10.4</td>\n",
       "      <td>24</td>\n",
       "      <td>1</td>\n",
       "    </tr>\n",
       "    <tr>\n",
       "      <th>4</th>\n",
       "      <td>Total</td>\n",
       "      <td>MEM</td>\n",
       "      <td>ACT</td>\n",
       "      <td>Aldama</td>\n",
       "      <td>65</td>\n",
       "      <td>16</td>\n",
       "      <td>1660</td>\n",
       "      <td>313</td>\n",
       "      <td>648</td>\n",
       "      <td>0.483</td>\n",
       "      <td>...</td>\n",
       "      <td>188</td>\n",
       "      <td>76</td>\n",
       "      <td>0</td>\n",
       "      <td>52</td>\n",
       "      <td>71</td>\n",
       "      <td>29</td>\n",
       "      <td>811</td>\n",
       "      <td>12.5</td>\n",
       "      <td>29</td>\n",
       "      <td>0</td>\n",
       "    </tr>\n",
       "    <tr>\n",
       "      <th>...</th>\n",
       "      <td>...</td>\n",
       "      <td>...</td>\n",
       "      <td>...</td>\n",
       "      <td>...</td>\n",
       "      <td>...</td>\n",
       "      <td>...</td>\n",
       "      <td>...</td>\n",
       "      <td>...</td>\n",
       "      <td>...</td>\n",
       "      <td>...</td>\n",
       "      <td>...</td>\n",
       "      <td>...</td>\n",
       "      <td>...</td>\n",
       "      <td>...</td>\n",
       "      <td>...</td>\n",
       "      <td>...</td>\n",
       "      <td>...</td>\n",
       "      <td>...</td>\n",
       "      <td>...</td>\n",
       "      <td>...</td>\n",
       "      <td>...</td>\n",
       "    </tr>\n",
       "    <tr>\n",
       "      <th>484</th>\n",
       "      <td>Total</td>\n",
       "      <td>BRK</td>\n",
       "      <td>ACT</td>\n",
       "      <td>Wilson</td>\n",
       "      <td>78</td>\n",
       "      <td>21</td>\n",
       "      <td>1993</td>\n",
       "      <td>240</td>\n",
       "      <td>609</td>\n",
       "      <td>0.394</td>\n",
       "      <td>...</td>\n",
       "      <td>141</td>\n",
       "      <td>162</td>\n",
       "      <td>1</td>\n",
       "      <td>40</td>\n",
       "      <td>79</td>\n",
       "      <td>5</td>\n",
       "      <td>731</td>\n",
       "      <td>9.4</td>\n",
       "      <td>20</td>\n",
       "      <td>0</td>\n",
       "    </tr>\n",
       "    <tr>\n",
       "      <th>485</th>\n",
       "      <td>Total</td>\n",
       "      <td>NY</td>\n",
       "      <td>ACT</td>\n",
       "      <td>Wright</td>\n",
       "      <td>39</td>\n",
       "      <td>7</td>\n",
       "      <td>614</td>\n",
       "      <td>43</td>\n",
       "      <td>125</td>\n",
       "      <td>0.344</td>\n",
       "      <td>...</td>\n",
       "      <td>74</td>\n",
       "      <td>23</td>\n",
       "      <td>0</td>\n",
       "      <td>34</td>\n",
       "      <td>22</td>\n",
       "      <td>12</td>\n",
       "      <td>120</td>\n",
       "      <td>3.1</td>\n",
       "      <td>12</td>\n",
       "      <td>0</td>\n",
       "    </tr>\n",
       "    <tr>\n",
       "      <th>486</th>\n",
       "      <td>Total</td>\n",
       "      <td>PHI</td>\n",
       "      <td>ACT</td>\n",
       "      <td>Yabusele</td>\n",
       "      <td>70</td>\n",
       "      <td>43</td>\n",
       "      <td>1895</td>\n",
       "      <td>282</td>\n",
       "      <td>563</td>\n",
       "      <td>0.501</td>\n",
       "      <td>...</td>\n",
       "      <td>148</td>\n",
       "      <td>164</td>\n",
       "      <td>1</td>\n",
       "      <td>58</td>\n",
       "      <td>87</td>\n",
       "      <td>24</td>\n",
       "      <td>768</td>\n",
       "      <td>11.0</td>\n",
       "      <td>28</td>\n",
       "      <td>1</td>\n",
       "    </tr>\n",
       "    <tr>\n",
       "      <th>487</th>\n",
       "      <td>Total</td>\n",
       "      <td>ATL</td>\n",
       "      <td>ACT</td>\n",
       "      <td>Young</td>\n",
       "      <td>76</td>\n",
       "      <td>76</td>\n",
       "      <td>2739</td>\n",
       "      <td>566</td>\n",
       "      <td>1376</td>\n",
       "      <td>0.411</td>\n",
       "      <td>...</td>\n",
       "      <td>880</td>\n",
       "      <td>145</td>\n",
       "      <td>0</td>\n",
       "      <td>91</td>\n",
       "      <td>355</td>\n",
       "      <td>12</td>\n",
       "      <td>1841</td>\n",
       "      <td>24.2</td>\n",
       "      <td>43</td>\n",
       "      <td>1</td>\n",
       "    </tr>\n",
       "    <tr>\n",
       "      <th>488</th>\n",
       "      <td>Total</td>\n",
       "      <td>ORL</td>\n",
       "      <td>ACT</td>\n",
       "      <td>da Silva</td>\n",
       "      <td>73</td>\n",
       "      <td>37</td>\n",
       "      <td>1592</td>\n",
       "      <td>194</td>\n",
       "      <td>470</td>\n",
       "      <td>0.413</td>\n",
       "      <td>...</td>\n",
       "      <td>107</td>\n",
       "      <td>93</td>\n",
       "      <td>0</td>\n",
       "      <td>33</td>\n",
       "      <td>55</td>\n",
       "      <td>18</td>\n",
       "      <td>519</td>\n",
       "      <td>7.1</td>\n",
       "      <td>25</td>\n",
       "      <td>1</td>\n",
       "    </tr>\n",
       "  </tbody>\n",
       "</table>\n",
       "<p>489 rows × 29 columns</p>\n",
       "</div>"
      ],
      "text/plain": [
       "     SCOPE   TM   RS      NAME   G  GS   MIN   FG   FGA  FG_PCT  ...  AST  \\\n",
       "0    Total   NY  ACT   Achiuwa  56   9  1137  156   309   0.505  ...   53   \n",
       "1    Total  HOU  ACT     Adams  57   3   777   89   163   0.546  ...   65   \n",
       "2    Total  MIA  ACT   Adebayo  78  78  2674  540  1113   0.485  ...  337   \n",
       "3    Total  TOR  ACT    Agbaji  63  44  1701  260   519   0.501  ...   97   \n",
       "4    Total  MEM  ACT    Aldama  65  16  1660  313   648   0.483  ...  188   \n",
       "..     ...  ...  ...       ...  ..  ..   ...  ...   ...     ...  ...  ...   \n",
       "484  Total  BRK  ACT    Wilson  78  21  1993  240   609   0.394  ...  141   \n",
       "485  Total   NY  ACT    Wright  39   7   614   43   125   0.344  ...   74   \n",
       "486  Total  PHI  ACT  Yabusele  70  43  1895  282   563   0.501  ...  148   \n",
       "487  Total  ATL  ACT     Young  76  76  2739  566  1376   0.411  ...  880   \n",
       "488  Total  ORL  ACT  da Silva  73  37  1592  194   470   0.413  ...  107   \n",
       "\n",
       "      PF  DQ  STL   TO  BLK   PTS   PPG  HI  Starter  \n",
       "0     77   1   45   43   42   361   6.4  26        0  \n",
       "1     58   0   22   53   28   221   3.9  14        0  \n",
       "2    162   0   98  161   53  1410  18.1  34        1  \n",
       "3    120   1   54   53   29   653  10.4  24        1  \n",
       "4     76   0   52   71   29   811  12.5  29        0  \n",
       "..   ...  ..  ...  ...  ...   ...   ...  ..      ...  \n",
       "484  162   1   40   79    5   731   9.4  20        0  \n",
       "485   23   0   34   22   12   120   3.1  12        0  \n",
       "486  164   1   58   87   24   768  11.0  28        1  \n",
       "487  145   0   91  355   12  1841  24.2  43        1  \n",
       "488   93   0   33   55   18   519   7.1  25        1  \n",
       "\n",
       "[489 rows x 29 columns]"
      ]
     },
     "execution_count": 47,
     "metadata": {},
     "output_type": "execute_result"
    }
   ],
   "source": [
    "df_cleaned"
   ]
  },
  {
   "cell_type": "code",
   "execution_count": 49,
   "metadata": {
    "id": "q2qNPMRn6Gv8"
   },
   "outputs": [],
   "source": [
    "df_cleaned.to_csv(\"cleaned_nba_stats.csv\", index=False)\n"
   ]
  },
  {
   "cell_type": "code",
   "execution_count": 51,
   "metadata": {
    "colab": {
     "base_uri": "https://localhost:8080/"
    },
    "id": "HpdsGT41A7f1",
    "outputId": "f2674878-2f8b-4f77-83ba-8f9fd2e36d50"
   },
   "outputs": [
    {
     "data": {
      "text/plain": [
       "Index(['SCOPE', 'TM', 'RS', 'NAME', 'G', 'GS', 'MIN', 'FG', 'FGA', 'FG_PCT',\n",
       "       'FG3', 'FG3A', 'FG3_PCT', 'FT', 'FTA', 'FT_PCT', 'OFF', 'DEF', 'TREB',\n",
       "       'AST', 'PF', 'DQ', 'STL', 'TO', 'BLK', 'PTS', 'PPG', 'HI', 'Starter'],\n",
       "      dtype='object')"
      ]
     },
     "execution_count": 51,
     "metadata": {},
     "output_type": "execute_result"
    }
   ],
   "source": [
    "df_cleaned.columns"
   ]
  },
  {
   "cell_type": "code",
   "execution_count": 53,
   "metadata": {
    "colab": {
     "base_uri": "https://localhost:8080/"
    },
    "id": "yRCijaCtGnw3",
    "outputId": "bdd3a679-5f10-47d9-c27c-aacb41dca411",
    "scrolled": true
   },
   "outputs": [
    {
     "name": "stdout",
     "output_type": "stream",
     "text": [
      "SCOPE\n",
      "TM\n",
      "RS\n",
      "NAME\n",
      "G\n",
      "GS\n",
      "MIN\n",
      "FG\n",
      "FGA\n",
      "FG_PCT\n",
      "FG3\n",
      "FG3A\n",
      "FG3_PCT\n",
      "FT\n",
      "FTA\n",
      "FT_PCT\n",
      "OFF\n",
      "DEF\n",
      "TREB\n",
      "AST\n",
      "PF\n",
      "DQ\n",
      "STL\n",
      "TO\n",
      "BLK\n",
      "PTS\n",
      "PPG\n",
      "HI\n",
      "Starter\n"
     ]
    }
   ],
   "source": [
    "for col in df_cleaned.columns:\n",
    "    print(col)\n"
   ]
  },
  {
   "cell_type": "markdown",
   "metadata": {
    "id": "sqxxLRAZ7KOK"
   },
   "source": [
    "# **EDA**"
   ]
  },
  {
   "cell_type": "code",
   "execution_count": 56,
   "metadata": {
    "colab": {
     "base_uri": "https://localhost:8080/",
     "height": 699
    },
    "id": "iB7kFBfH7O4s",
    "outputId": "e1cfbc08-3073-4757-e6b5-6264c3e97700"
   },
   "outputs": [
    {
     "data": {
      "image/png": "[encoded data removed]",
      "text/plain": [
       "<Figure size 1000x800 with 2 Axes>"
      ]
     },
     "metadata": {},
     "output_type": "display_data"
    }
   ],
   "source": [
    "\n",
    "corr = df_cleaned.corr(numeric_only=True)\n",
    "plt.figure(figsize=(10,8))\n",
    "sns.heatmap(corr[['PPG']].sort_values(by='PPG', ascending=False), annot=True, cmap='coolwarm')\n",
    "plt.title('Correlation of Features with PPG')\n",
    "plt.show()\n"
   ]
  },
  {
   "cell_type": "code",
   "execution_count": 57,
   "metadata": {
    "colab": {
     "base_uri": "https://localhost:8080/",
     "height": 472
    },
    "id": "GmUerFKPIXrx",
    "outputId": "1c7b2383-bf0b-4ca0-bbf0-1fb97bc93df6"
   },
   "outputs": [
    {
     "data": {
      "image/png": "[encoded data removed]",
      "text/plain": [
       "<Figure size 640x480 with 1 Axes>"
      ]
     },
     "metadata": {},
     "output_type": "display_data"
    }
   ],
   "source": [
    "sns.scatterplot(data=df_cleaned, x='FG3', y='PPG')\n",
    "plt.title('3-Point Shooting Efficency vs Points Per Game')\n",
    "plt.xlabel('3-Point Shooting Efficiency')\n",
    "plt.ylabel('Points Per Game')\n",
    "plt.show()"
   ]
  },
  {
   "cell_type": "code",
   "execution_count": 60,
   "metadata": {
    "colab": {
     "base_uri": "https://localhost:8080/",
     "height": 472
    },
    "id": "azkOk06FJEgh",
    "outputId": "08d6a0a7-4b1d-4303-801d-407da5a9e3dd",
    "scrolled": true
   },
   "outputs": [
    {
     "data": {
      "image/png": "[encoded data removed]",
      "text/plain": [
       "<Figure size 640x480 with 1 Axes>"
      ]
     },
     "metadata": {},
     "output_type": "display_data"
    }
   ],
   "source": [
    "sns.boxplot(data=df_cleaned, x='Starter', y='MIN')\n",
    "plt.title('Minutes Played by Starter vs Bench')\n",
    "plt.xlabel('Starter (1) vs Bench (0)')\n",
    "plt.ylabel('Minutes')\n",
    "plt.show()\n"
   ]
  },
  {
   "cell_type": "code",
   "execution_count": 62,
   "metadata": {},
   "outputs": [
    {
     "name": "stdout",
     "output_type": "stream",
     "text": [
      "Requirement already satisfied: lime in /opt/anaconda3/lib/python3.12/site-packages (0.2.0.1)\n",
      "Requirement already satisfied: matplotlib in /opt/anaconda3/lib/python3.12/site-packages (from lime) (3.9.2)\n",
      "Requirement already satisfied: numpy in /opt/anaconda3/lib/python3.12/site-packages (from lime) (1.26.4)\n",
      "Requirement already satisfied: scipy in /opt/anaconda3/lib/python3.12/site-packages (from lime) (1.13.1)\n",
      "Requirement already satisfied: tqdm in /opt/anaconda3/lib/python3.12/site-packages (from lime) (4.66.5)\n",
      "Requirement already satisfied: scikit-learn>=0.18 in /opt/anaconda3/lib/python3.12/site-packages (from lime) (1.5.1)\n",
      "Requirement already satisfied: scikit-image>=0.12 in /opt/anaconda3/lib/python3.12/site-packages (from lime) (0.24.0)\n",
      "Requirement already satisfied: networkx>=2.8 in /opt/anaconda3/lib/python3.12/site-packages (from scikit-image>=0.12->lime) (3.3)\n",
      "Requirement already satisfied: pillow>=9.1 in /opt/anaconda3/lib/python3.12/site-packages (from scikit-image>=0.12->lime) (10.4.0)\n",
      "Requirement already satisfied: imageio>=2.33 in /opt/anaconda3/lib/python3.12/site-packages (from scikit-image>=0.12->lime) (2.33.1)\n",
      "Requirement already satisfied: tifffile>=2022.8.12 in /opt/anaconda3/lib/python3.12/site-packages (from scikit-image>=0.12->lime) (2023.4.12)\n",
      "Requirement already satisfied: packaging>=21 in /opt/anaconda3/lib/python3.12/site-packages (from scikit-image>=0.12->lime) (24.1)\n",
      "Requirement already satisfied: lazy-loader>=0.4 in /opt/anaconda3/lib/python3.12/site-packages (from scikit-image>=0.12->lime) (0.4)\n",
      "Requirement already satisfied: joblib>=1.2.0 in /opt/anaconda3/lib/python3.12/site-packages (from scikit-learn>=0.18->lime) (1.4.2)\n",
      "Requirement already satisfied: threadpoolctl>=3.1.0 in /opt/anaconda3/lib/python3.12/site-packages (from scikit-learn>=0.18->lime) (3.5.0)\n",
      "Requirement already satisfied: contourpy>=1.0.1 in /opt/anaconda3/lib/python3.12/site-packages (from matplotlib->lime) (1.2.0)\n",
      "Requirement already satisfied: cycler>=0.10 in /opt/anaconda3/lib/python3.12/site-packages (from matplotlib->lime) (0.11.0)\n",
      "Requirement already satisfied: fonttools>=4.22.0 in /opt/anaconda3/lib/python3.12/site-packages (from matplotlib->lime) (4.51.0)\n",
      "Requirement already satisfied: kiwisolver>=1.3.1 in /opt/anaconda3/lib/python3.12/site-packages (from matplotlib->lime) (1.4.4)\n",
      "Requirement already satisfied: pyparsing>=2.3.1 in /opt/anaconda3/lib/python3.12/site-packages (from matplotlib->lime) (3.1.2)\n",
      "Requirement already satisfied: python-dateutil>=2.7 in /opt/anaconda3/lib/python3.12/site-packages (from matplotlib->lime) (2.9.0.post0)\n",
      "Requirement already satisfied: six>=1.5 in /opt/anaconda3/lib/python3.12/site-packages (from python-dateutil>=2.7->matplotlib->lime) (1.16.0)\n"
     ]
    }
   ],
   "source": [
    "import pandas as pd\n",
    "import numpy as np\n",
    "import matplotlib.pyplot as plt\n",
    "\n",
    "from sklearn.model_selection import train_test_split\n",
    "from sklearn import metrics\n",
    "from sklearn.metrics import ConfusionMatrixDisplay\n",
    "\n",
    "!pip install lime\n",
    "from lime import lime_tabular\n",
    "from sklearn.inspection import permutation_importance"
   ]
  },
  {
   "cell_type": "code",
   "execution_count": null,
   "metadata": {},
   "outputs": [],
   "source": []
  },
  {
   "cell_type": "code",
   "execution_count": 65,
   "metadata": {},
   "outputs": [
    {
     "name": "stdout",
     "output_type": "stream",
     "text": [
      "   FG_PCT   MIN  FT_PCT  FG3_PCT\n",
      "0   0.505  1137   0.600    0.278\n",
      "1   0.546   777   0.462    0.000\n",
      "2   0.485  2674   0.765    0.357\n",
      "3   0.501  1701   0.708    0.404\n",
      "4   0.483  1660   0.691    0.368\n"
     ]
    }
   ],
   "source": [
    "X = df_cleaned[['FG_PCT', 'MIN', 'FT_PCT', 'FG3_PCT']]  # Adjust column names if needed\n",
    "y_clean_string = df_cleaned['PPG']\n",
    "\n",
    "# Check that it worked\n",
    "print(X.head())\n",
    "\n"
   ]
  },
  {
   "cell_type": "code",
   "execution_count": null,
   "metadata": {},
   "outputs": [],
   "source": []
  },
  {
   "cell_type": "code",
   "execution_count": null,
   "metadata": {},
   "outputs": [],
   "source": []
  },
  {
   "cell_type": "code",
   "execution_count": 69,
   "metadata": {},
   "outputs": [],
   "source": [
    "# Write a function to take in the feature variable (X) and the target variable (y_clean_string). Create a train test split for the variables. \n",
    "# Predict using Random Forest Classifier \n",
    "# Call your function and describe your baseline results \n"
   ]
  },
  {
   "cell_type": "code",
   "execution_count": 71,
   "metadata": {},
   "outputs": [],
   "source": [
    "from sklearn.ensemble import RandomForestRegressor\n",
    "from sklearn.tree import DecisionTreeRegressor\n",
    "from sklearn.metrics import mean_squared_error, mean_absolute_error, r2_score\n",
    "from sklearn.model_selection import train_test_split\n",
    "\n",
    "def train_evaluate_models(X, y):\n",
    "    # Split data into training and testing sets\n",
    "    X_train, X_test, y_train, y_test = train_test_split(X, y, test_size=0.3, random_state=42)\n",
    "    \n",
    "    # Initialize the Random Forest Regressor\n",
    "    random_forest = RandomForestRegressor(random_state=42)\n",
    "    \n",
    "    # Train the Random Forest\n",
    "    random_forest.fit(X_train, y_train)\n",
    "    \n",
    "    # Predict using the Random Forest\n",
    "    rf_predictions = random_forest.predict(X_test)\n",
    "    \n",
    "    # Calculate and print regression metrics\n",
    "    print(\"\\nRandom Forest Regression Metrics\")\n",
    "    print(f\"Mean Squared Error: {mean_squared_error(y_test, rf_predictions):.2f}\")\n",
    "    print(f\"Mean Absolute Error: {mean_absolute_error(y_test, rf_predictions):.2f}\")\n",
    "    print(f\"R² Score: {r2_score(y_test, rf_predictions):.2f}\")\n",
    "\n",
    "    "
   ]
  },
  {
   "cell_type": "code",
   "execution_count": 73,
   "metadata": {},
   "outputs": [
    {
     "name": "stdout",
     "output_type": "stream",
     "text": [
      "\n",
      "Random Forest Regression Metrics\n",
      "Mean Squared Error: 20.65\n",
      "Mean Absolute Error: 3.14\n",
      "R² Score: 0.51\n"
     ]
    }
   ],
   "source": [
    "train_evaluate_models(X, y_clean_string)"
   ]
  },
  {
   "cell_type": "markdown",
   "metadata": {},
   "source": [
    "The baseline RF Regressor model achieved a Mean Squared Error of 20.65 and a Mean Absolute Error of 3.14, indicating that predictions were typically off by about 3 points. The R² Score of 0.51 suggests that the model explains roughly half the variance in the players' points per game, which is a reasonable start but still highlights room for improvement through further hyperparameter tuning. "
   ]
  },
  {
   "cell_type": "code",
   "execution_count": 78,
   "metadata": {},
   "outputs": [
    {
     "name": "stdout",
     "output_type": "stream",
     "text": [
      "Baseline (Vanilla) R² Score: 0.5149\n",
      "Model 1 R² Score: 0.5126\n",
      "Model 2 R² Score: 0.5218\n",
      "Model 3 R² Score: 0.5145\n",
      "Model 4 R² Score: 0.5264\n",
      "Model 5 R² Score: 0.5126\n",
      "Model 6 R² Score: 0.4330\n",
      "Model 7 R² Score: 0.5103\n",
      "Model 8 R² Score: 0.5386\n",
      "Model 9 R² Score: 0.5229\n",
      "Model 10 R² Score: 0.5189\n",
      "Model 11 R² Score: 0.5228\n",
      "\n",
      " Best Tuned R² Score: 0.5386\n"
     ]
    }
   ],
   "source": [
    "from sklearn.tree import DecisionTreeClassifier\n",
    "from sklearn.model_selection import train_test_split\n",
    "from sklearn.preprocessing import StandardScaler\n",
    "from sklearn.metrics import accuracy_score\n",
    "import pandas as pd\n",
    "import numpy as np\n",
    "\n",
    "# -----------------------------\n",
    "# Data Preprocessing\n",
    "# -----------------------------\n",
    "\n",
    "# Baseline data\n",
    "X = df_cleaned[['FG_PCT', 'MIN', 'FT_PCT', 'FG3_PCT']]\n",
    "y = df_cleaned['PPG']\n",
    "\n",
    "# Split data into training and testing sets\n",
    "X_train, X_test, y_train, y_test = train_test_split(X, y_clean_string, test_size=0.3, random_state=42)\n",
    "\n",
    "# -----------------------------\n",
    "# Baseline Models\n",
    "# -----------------------------\n",
    "\n",
    "# 1. Train a vanilla (default) Random Forest Regressor\n",
    "vanilla_rf = RandomForestRegressor(random_state=42)\n",
    "vanilla_rf.fit(X_train, y_train)\n",
    "vanilla_preds = vanilla_rf.predict(X_test)\n",
    "vanilla_r2 = r2_score(y_test, vanilla_preds)\n",
    "\n",
    "print(f\"Baseline (Vanilla) R² Score: {vanilla_r2:.4f}\")\n",
    "\n",
    "# 2. Try 10+ different tuned models\n",
    "tuned_r2_scores = []\n",
    "\n",
    "# Optional: standardize features\n",
    "scaler = StandardScaler()\n",
    "X_scaled = scaler.fit_transform(X)\n",
    "X_train_scaled, X_test_scaled, _, _ = train_test_split(X_scaled, y, test_size=0.3, random_state=42)\n",
    "\n",
    "# Try combinations of parameters\n",
    "param_grid = [\n",
    "    {'n_estimators': 100, 'max_depth': 10},\n",
    "    {'n_estimators': 200, 'max_depth': None},\n",
    "    {'n_estimators': 150, 'max_depth': 15, 'min_samples_split': 5},\n",
    "    {'n_estimators': 300, 'max_depth': 20, 'min_samples_leaf': 2},\n",
    "    {'n_estimators': 100, 'max_depth': 10, 'max_features': 'sqrt'},\n",
    "    {'n_estimators': 200, 'max_depth': 5, 'bootstrap': False},\n",
    "    {'n_estimators': 250, 'max_depth': 25, 'min_samples_split': 10},\n",
    "    {'n_estimators': 120, 'max_depth': None, 'min_samples_leaf': 3},\n",
    "    {'n_estimators': 180, 'max_depth': 12, 'max_features': 'log2'},\n",
    "    {'n_estimators': 160, 'max_depth': 8, 'min_samples_split': 4},\n",
    "    {'n_estimators': 300, 'max_depth': 20, 'max_features': 2}\n",
    "]\n",
    "\n",
    "for params in param_grid:\n",
    "    rf = RandomForestRegressor(random_state=42, **params)\n",
    "    rf.fit(X_train_scaled, y_train)\n",
    "    preds = rf.predict(X_test_scaled)\n",
    "    r2 = r2_score(y_test, preds)\n",
    "    tuned_r2_scores.append(r2)\n",
    "\n",
    "# Print all results\n",
    "for i, score in enumerate(tuned_r2_scores):\n",
    "    print(f\"Model {i+1} R² Score: {score:.4f}\")\n",
    "\n",
    "# Best result\n",
    "best_r2 = max(tuned_r2_scores)\n",
    "print(f\"\\n Best Tuned R² Score: {best_r2:.4f}\")"
   ]
  },
  {
   "cell_type": "markdown",
   "metadata": {},
   "source": [
    "## Using GridSearch for hyperparameter tuning to see if I can get the R^2 score up"
   ]
  },
  {
   "cell_type": "code",
   "execution_count": 85,
   "metadata": {},
   "outputs": [
    {
     "name": "stdout",
     "output_type": "stream",
     "text": [
      "Fitting 5 folds for each of 18 candidates, totalling 90 fits\n",
      "Best Parameters: {'max_depth': 5, 'min_samples_split': 5, 'n_estimators': 300}\n",
      "Best R² Score: 0.5830357545508239\n",
      "Fold R² scores: [0.51374841 0.57942201 0.54269712 0.57479958 0.5686192 ]\n",
      "Cross-validation performance (mean R²): 0.5558572650536092\n"
     ]
    }
   ],
   "source": [
    "$\n"
   ]
  },
  {
   "cell_type": "code",
   "execution_count": 87,
   "metadata": {},
   "outputs": [
    {
     "name": "stderr",
     "output_type": "stream",
     "text": [
      "/var/folders/jb/m58d6yh92bz39swtqwkmllzw0000gn/T/ipykernel_37196/4262007576.py:20: FutureWarning: \n",
      "\n",
      "Passing `palette` without assigning `hue` is deprecated and will be removed in v0.14.0. Assign the `y` variable to `hue` and set `legend=False` for the same effect.\n",
      "\n",
      "  sns.barplot(x='Importance', y='Feature', data=feat_imp_df, palette='viridis')\n"
     ]
    },
    {
     "data": {
      "image/png": "[encoded data removed]",
      "text/plain": [
       "<Figure size 800x500 with 1 Axes>"
      ]
     },
     "metadata": {},
     "output_type": "display_data"
    }
   ],
   "source": [
    "## \n",
    "\n",
    "import matplotlib.pyplot as plt\n",
    "import seaborn as sns\n",
    "import pandas as pd\n",
    "\n",
    "# Get best model\n",
    "rf_best = grid_search.best_estimator_\n",
    "\n",
    "# Get importances and feature names\n",
    "importances = rf_best.feature_importances_\n",
    "feature_names = X.columns\n",
    "\n",
    "# Create DataFrame for plotting\n",
    "feat_imp_df = pd.DataFrame({'Feature': feature_names, 'Importance': importances})\n",
    "feat_imp_df = feat_imp_df.sort_values(by='Importance', ascending=True)\n",
    "\n",
    "# Plot\n",
    "plt.figure(figsize=(8, 5))\n",
    "sns.barplot(x='Importance', y='Feature', data=feat_imp_df, palette='viridis')\n",
    "plt.title('Feature Importances from Best Random Forest Model')\n",
    "plt.xlabel('Importance')\n",
    "plt.ylabel('Feature')\n",
    "plt.tight_layout()\n",
    "plt.show()"
   ]
  },
  {
   "cell_type": "markdown",
   "metadata": {},
   "source": [
    "The tuning improved model performance by about 2.7 percentage points in explained variance.\n",
    "The model is also consistently performing well across folds, indicating low variance and decent generalization."
   ]
  },
  {
   "cell_type": "markdown",
   "metadata": {},
   "source": [
    "## Create a plot that summarizes the results of your experiments and how they conpare to the results of your baseline Random Forest Model"
   ]
  },
  {
   "cell_type": "code",
   "execution_count": 107,
   "metadata": {},
   "outputs": [
    {
     "data": {
      "image/png": "[encoded data removed]",
      "text/plain": [
       "<Figure size 1000x600 with 1 Axes>"
      ]
     },
     "metadata": {},
     "output_type": "display_data"
    }
   ],
   "source": [
    "import matplotlib.pyplot as plt\n",
    "import seaborn as sns\n",
    "\n",
    "# Data\n",
    "baseline_r2 = scores.mean()  # From cross_val_score (default model)\n",
    "best_r2 = grid_search.best_score_  # From GridSearchCV\n",
    "\n",
    "# Fold scores from baseline (optional to include)\n",
    "fold_r2_scores = scores\n",
    "\n",
    "# Plotting\n",
    "plt.figure(figsize=(10, 6))\n",
    "sns.set(style=\"whitegrid\")\n",
    "\n",
    "# Bar plot\n",
    "bars = plt.bar(\n",
    "    ['Baseline Mean R²', 'Tuned Model Mean R²'],\n",
    "    [baseline_r2, best_r2],\n",
    "    color=['gray', 'green']\n",
    ")\n",
    "\n",
    "# Annotate bars with values\n",
    "for bar in bars:\n",
    "    yval = bar.get_height()\n",
    "    plt.text(bar.get_x() + bar.get_width()/2, yval + 0.01, f'{yval:.3f}', ha='center', va='bottom')\n",
    "\n",
    "# Plot individual fold scores for the baseline (optional detail)\n",
    "for i, score in enumerate(fold_r2_scores):\n",
    "    plt.scatter('Baseline Mean R²', score, color='black', alpha=0.6)\n",
    "\n",
    "# Labels\n",
    "plt.title('Comparison of Baseline vs Tuned Random Forest Model (R² Score)')\n",
    "plt.ylabel('R² Score')\n",
    "plt.ylim(0.45, 0.65)\n",
    "plt.show()\n"
   ]
  },
  {
   "cell_type": "code",
   "execution_count": null,
   "metadata": {},
   "outputs": [],
   "source": []
  },
  {
   "cell_type": "markdown",
   "metadata": {},
   "source": [
    "The gray bar represents the baseline model, with a meanR^2 score of about 0.556. The black dots above the bar represent the individual R^2 scores from the 5-fold cross validation. These dots show some variability in model performance depending on the data split, which is expected in cross-validation. The Tuned Model is represented by the Green Bar with a Mean R^2 score of 0.584. This value was obtained through GridSearchCV using cross-validation and hyperparameter tuning. It is noticeably higher than the baseline-- an improving of 2.7 percentage points, which indicates that tuning the hyperparameters of n_estimators, max_depth, and min_samples_split successfully improved model performance. "
   ]
  },
  {
   "cell_type": "code",
   "execution_count": 89,
   "metadata": {},
   "outputs": [
    {
     "name": "stderr",
     "output_type": "stream",
     "text": [
      "/var/folders/jb/m58d6yh92bz39swtqwkmllzw0000gn/T/ipykernel_37196/3876889464.py:17: FutureWarning: \n",
      "\n",
      "Passing `palette` without assigning `hue` is deprecated and will be removed in v0.14.0. Assign the `x` variable to `hue` and set `legend=False` for the same effect.\n",
      "\n",
      "  sns.boxplot(x='Model', y='R² Score', data=df_cv, palette='Set2')\n"
     ]
    },
    {
     "data": {
      "image/png": "[encoded data removed]",
      "text/plain": [
       "<Figure size 600x400 with 1 Axes>"
      ]
     },
     "metadata": {},
     "output_type": "display_data"
    }
   ],
   "source": [
    "# Store tuned fold scores using best params from GridSearchCV\n",
    "from sklearn.model_selection import cross_val_score\n",
    "\n",
    "best_rf = grid_search.best_estimator_\n",
    "tuned_fold_scores = cross_val_score(best_rf, X, y, cv=5, scoring='r2')\n",
    "\n",
    "# Combine into a DataFrame\n",
    "import pandas as pd\n",
    "\n",
    "df_cv = pd.DataFrame({\n",
    "    'R² Score': list(scores) + list(tuned_fold_scores),\n",
    "    'Model': ['Baseline'] * 5 + ['Tuned'] * 5\n",
    "})\n",
    "\n",
    "# Boxplot\n",
    "plt.figure(figsize=(6, 4))\n",
    "sns.boxplot(x='Model', y='R² Score', data=df_cv, palette='Set2')\n",
    "plt.title(\"Distribution of R² Scores Across Folds\")\n",
    "plt.tight_layout()\n",
    "plt.show()\n"
   ]
  },
  {
   "cell_type": "code",
   "execution_count": 91,
   "metadata": {},
   "outputs": [
    {
     "data": {
      "image/png": "[encoded data removed]",
      "text/plain": [
       "<Figure size 800x500 with 2 Axes>"
      ]
     },
     "metadata": {},
     "output_type": "display_data"
    }
   ],
   "source": [
    "# Extract GridSearchCV results into a DataFrame\n",
    "results_df = pd.DataFrame(grid_search.cv_results_)\n",
    "\n",
    "# filter to one min_samples_split value to simplify heatmap\n",
    "filtered = results_df[results_df['param_min_samples_split'] == 2]\n",
    "\n",
    "# Pivot table\n",
    "pivot = filtered.pivot(index='param_max_depth', columns='param_n_estimators', values='mean_test_score')\n",
    "\n",
    "# Heatmap\n",
    "plt.figure(figsize=(8, 5))\n",
    "sns.heatmap(pivot, annot=True, fmt=\".3f\", cmap=\"YlGnBu\")\n",
    "plt.title(\"Grid Search R² Scores\\n(min_samples_split=2)\")\n",
    "plt.xlabel(\"n_estimators\")\n",
    "plt.ylabel(\"max_depth\")\n",
    "plt.tight_layout()\n",
    "plt.show()\n"
   ]
  },
  {
   "cell_type": "code",
   "execution_count": null,
   "metadata": {},
   "outputs": [],
   "source": []
  }
 ],
 "metadata": {
  "colab": {
   "provenance": []
  },
  "kernelspec": {
   "display_name": "Python [conda env:base] *",
   "language": "python",
   "name": "conda-base-py"
  },
  "language_info": {
   "codemirror_mode": {
    "name": "ipython",
    "version": 3
   },
   "file_extension": ".py",
   "mimetype": "text/x-python",
   "name": "python",
   "nbconvert_exporter": "python",
   "pygments_lexer": "ipython3",
   "version": "3.12.7"
  }
 },
 "nbformat": 4,
 "nbformat_minor": 4
}
